{
  "nbformat": 4,
  "nbformat_minor": 0,
  "metadata": {
    "kernelspec": {
      "display_name": "Python 3",
      "language": "python",
      "name": "python3"
    },
    "language_info": {
      "codemirror_mode": {
        "name": "ipython",
        "version": 3
      },
      "file_extension": ".py",
      "mimetype": "text/x-python",
      "name": "python",
      "nbconvert_exporter": "python",
      "pygments_lexer": "ipython3",
      "version": "3.7.3"
    },
    "colab": {
      "name": "YHacks.ipynb",
      "provenance": [],
      "collapsed_sections": []
    }
  },
  "cells": [
    {
      "cell_type": "code",
      "metadata": {
        "id": "4r-ERYZ6Q0HC",
        "colab_type": "code",
        "colab": {}
      },
      "source": [
        "import re \n",
        "import tweepy \n",
        "from tweepy import OAuthHandler \n",
        "from textblob import TextBlob \n",
        "import matplotlib.pyplot as plt"
      ],
      "execution_count": 0,
      "outputs": []
    },
    {
      "cell_type": "code",
      "metadata": {
        "id": "YClTbraaQ0HK",
        "colab_type": "code",
        "colab": {}
      },
      "source": [
        "class Client_Twitter(object):\n",
        "  \n",
        "    def __init__(self): \n",
        "            \n",
        "            \n",
        "            consumer_key = ''\n",
        "            consumer_secret = ''\n",
        "            access_token = ''\n",
        "            access_token_secret = ''\n",
        "\n",
        "           \n",
        "            try: \n",
        "                 \n",
        "                self.auth = OAuthHandler(consumer_key, consumer_secret) \n",
        "                \n",
        "                self.auth.set_access_token(access_token, access_token_secret) \n",
        "                \n",
        "                self.api = tweepy.API(self.auth) \n",
        "            except: \n",
        "                print(\"Error: Authentication Failed\") \n",
        "\n",
        "    def clean_tweet(self, tweet): \n",
        "        \n",
        "       \n",
        "        return ' '.join(re.sub(\"(@[A-Za-z0-9]+)|([^0-9A-Za-z \\t]) |(\\w+:\\/\\/\\S+)\", \" \", tweet).split()) \n",
        "    \n",
        "    def get_tweet_sentiment(self, tweet): \n",
        "     \n",
        "        \n",
        "        analysis = TextBlob(self.clean_tweet(tweet)) \n",
        "       \n",
        "        if analysis.sentiment.polarity > 0: \n",
        "            return 'positive'\n",
        "        elif analysis.sentiment.polarity == 0: \n",
        "            return 'neutral'\n",
        "        else: \n",
        "            return 'negative'\n",
        "    \n",
        "    def get_tweets(self, query, count = 100): \n",
        "       \n",
        "        # empty list to store parsed tweets \n",
        "        tweets = [] \n",
        "  \n",
        "        try: \n",
        "         \n",
        "            fetched_tweets = self.api.search(q = query, count = count)\n",
        "            #print(fetched_tweets[0].text)\n",
        "          \n",
        "            for tweet in fetched_tweets: \n",
        "                \n",
        "                parsed_tweet = {} \n",
        "             \n",
        "                parsed_tweet['text'] = tweet.text\n",
        "                \n",
        "                parsed_tweet['sentiment'] = self.get_tweet_sentiment(tweet.text) \n",
        "  \n",
        "                \n",
        "                if tweet.retweet_count > 0: \n",
        "                    \n",
        "                    if parsed_tweet not in tweets: \n",
        "                        tweets.append(parsed_tweet) \n",
        "                else: \n",
        "                    tweets.append(parsed_tweet) \n",
        "  \n",
        "            # return parsed tweets \n",
        "            return tweets \n",
        "  \n",
        "        except tweepy.TweepError as e: \n",
        "            # print error (if any) \n",
        "            print(\"Error : \" + str(e)) "
      ],
      "execution_count": 0,
      "outputs": []
    },
    {
      "cell_type": "code",
      "metadata": {
        "id": "UxwtdWfSQ0HO",
        "colab_type": "code",
        "colab": {}
      },
      "source": [
        "def main(): \n",
        "    \n",
        "    api = TwitterClient() \n",
        "    \n",
        "    tweets = api.get_tweets(query = 'jetblue', count = 200) \n",
        "   \n",
        "    ptweets = [tweet for tweet in tweets if tweet['sentiment'] == 'positive'] \n",
        "   \n",
        "    print(\"Positive tweets percentage: {} %\".format(100*len(ptweets)/len(tweets))) \n",
        "   \n",
        "    ntweets = [tweet for tweet in tweets if tweet['sentiment'] == 'negative'] \n",
        "    \n",
        "    print(\"Negative tweets percentage: {} %\".format(100*len(ntweets)/len(tweets))) \n",
        "   \n",
        "    print(\"Neutral tweets percentage: {} % \\ \".format(100*(len(tweets) - len(ntweets) - len(ptweets))/len(tweets))) \n",
        "    explode = (0.1, 0, 0)\n",
        "    labels = ['Positive', 'Negative', 'Neutral']\n",
        "    sizes = [100*len(ptweets)/len(tweets), 100*len(ntweets)/len(tweets), 100*(len(tweets) - len(ntweets) - len(ptweets))/len(tweets)]\n",
        "    colors = ['yellowgreen', 'gold', 'lightskyblue', 'lightcoral']\n",
        "    patches, texts = plt.pie(sizes, colors=colors, shadow=True, explode=explode, labels=labels,startangle=140)\n",
        "    plt.legend(patches, labels, loc=\"best\")\n",
        "    plt.axis('equal')\n",
        "    plt.tight_layout()\n",
        "    plt.show()\n",
        "  \n",
        "  \n",
        "   \n",
        "    print(\"\\n\\nPositive tweets:\") \n",
        "    for tweet in ptweets[:10]: \n",
        "        print(tweet['text']) \n",
        "  \n",
        "  \n",
        "    print(\"\\n\\nNegative tweets:\") \n",
        "    for tweet in ntweets[:10]: \n",
        "        print(tweet['text']) \n"
      ],
      "execution_count": 0,
      "outputs": []
    },
    {
      "cell_type": "code",
      "metadata": {
        "id": "Cc-A9WNUQ0HR",
        "colab_type": "code",
        "colab": {
          "base_uri": "https://localhost:8080/",
          "height": 827
        },
        "outputId": "f722ae66-1c6d-4a91-e80d-d0af330b3600"
      },
      "source": [
        "if __name__ == \"__main__\": \n",
        "   \n",
        "    main() "
      ],
      "execution_count": 20,
      "outputs": [
        {
          "output_type": "stream",
          "text": [
            "Positive tweets percentage: 25.58139534883721 %\n",
            "Negative tweets percentage: 20.930232558139537 %\n",
            "Neutral tweets percentage: 53.48837209302326 % \\ \n"
          ],
          "name": "stdout"
        },
        {
          "output_type": "display_data",
          "data": {
            "image/png": "[encoded data removed]",
            "text/plain": [
              "<Figure size 432x288 with 1 Axes>"
            ]
          },
          "metadata": {
            "tags": []
          }
        },
        {
          "output_type": "stream",
          "text": [
            "\n",
            "\n",
            "Positive tweets:\n",
            "RT @endofbellcurve: @coffeespoonie @JetBlue Pretty telling, @JetBlue that wheelchair repair/replacement isn't obviously in your 'customer b…\n",
            "RT @Will_Graham_Pls: @coffeespoonie @JetBlue @JetBlue replace the wheel chair. It's almost been a full year of these shenanigans\n",
            "RT @mis_cue: @coffeespoonie @JetBlue @JetBlue TIL that you *still* don't care about disabled people, their (legally-mandated) right to acce…\n",
            "JetBlue reports its third quarter earnings, operating expense growth better than guidance\n",
            "@JetBlue #JetblueAirways… https://t.co/FRY8uPcrFg\n",
            "@JetBlue is by far the best airline! It’s not even close!!! Why are other airlines failing so badly?!?! I have an o… https://t.co/uNAcMYUfvt\n",
            "RT @taeslaynee: A member of the JetBlue paternity this is true 🤣🤣 https://t.co/ZIYsxtKQ8x\n",
            "RT @RearAdBsBlog: Shoutout to @JetBlue for getting us home early. (Though I kinda wanna stick around for the end of COLLATERAL.) https://t.…\n",
            "@coffeespoonie @JetBlue Oh man...still?!? Tsk tsk @jetblue  You have any idea how many disabled people are learning… https://t.co/BbeOPA8QV8\n",
            "@coffeespoonie @JetBlue So @JetBlue doesn’t care about the ADA and about making its services accessible to everyone… https://t.co/h054hWYRvL\n",
            "Snacks that I actually enjoy, free wifi on board, flight attendants that treat you like a human - this is why I love @JetBlue\n",
            "\n",
            "\n",
            "Negative tweets:\n",
            "RT @coffeespoonie: Hey @JetBlue jsyk my wheelchair is still broken. my wheels are being scraped off into rubber dust every time I move as t…\n",
            "RT @celtics: The pass... the finish... obvious choice for tonight's @jetblue Play of the Game ☘️ https://t.co/uryCKeLmtZ\n",
            "@coffeespoonie @JetBlue @JetBlue EARTH TO MCFLY\n",
            "\n",
            "Seriously please replace her wheelchair y’all\n",
            "RT @stefanihasty: MISSING DOG!!! @PetSmart @Petco potential dog crate purchaser?@AmericanAir @Delta @UnitedAirways @JetBlue @British_Airway…\n",
            "@JetBlue this is unacceptable. Replace the chair. It’s the least you can do considering your people broke it and it… https://t.co/40E4viCTY9\n",
            "@coffeespoonie @JetBlue Wait... this is STILL going on? :(\n",
            "Well, that makes me not want to fly @JetBlue. It’s awful to damage somebody’s accessibility aid, and something as v… https://t.co/gRKazLMrCI\n",
            "RT @BucolicUtopia: @coffeespoonie @JetBlue @jetblue doesn’t care about disabled people.\n",
            "You think you know crazy? There's fucking people out there who retweet promoted tweets. They're literally like \"Oh fuck yea Jetblue.\" fuck\n"
          ],
          "name": "stdout"
        }
      ]
    }
  ]
}