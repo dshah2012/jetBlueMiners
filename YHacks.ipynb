{
  "nbformat": 4,
  "nbformat_minor": 0,
  "metadata": {
    "kernelspec": {
      "display_name": "Python 3",
      "language": "python",
      "name": "python3"
    },
    "language_info": {
      "codemirror_mode": {
        "name": "ipython",
        "version": 3
      },
      "file_extension": ".py",
      "mimetype": "text/x-python",
      "name": "python",
      "nbconvert_exporter": "python",
      "pygments_lexer": "ipython3",
      "version": "3.7.3"
    },
    "colab": {
      "name": "YHacks.ipynb",
      "provenance": []
    }
  },
  "cells": [
    {
      "cell_type": "code",
      "metadata": {
        "id": "4r-ERYZ6Q0HC",
        "colab_type": "code",
        "colab": {}
      },
      "source": [
        "import re \n",
        "import tweepy \n",
        "from tweepy import OAuthHandler \n",
        "from textblob import TextBlob \n",
        "import matplotlib.pyplot as plt"
      ],
      "execution_count": 0,
      "outputs": []
    },
    {
      "cell_type": "code",
      "metadata": {
        "id": "YClTbraaQ0HK",
        "colab_type": "code",
        "colab": {}
      },
      "source": [
        "class TwitterClient(object):\n",
        "  \n",
        "    def __init__(self): \n",
        "            ''' \n",
        "            Class constructor or initialization method. \n",
        "            '''\n",
        "            # keys and tokens from the Twitter Dev Console \n",
        "            consumer_key = 'CJ7Ty6zU5GSNXPC7kvNwqRmmE'\n",
        "            consumer_secret = 'WEayphwLMZZGr7HVdlWXCl6alRk5SmEYuK0brKVZ6MDc5KYoWL'\n",
        "            access_token = '468385324-bKOkGmb3aVZUjcRuWyUbJiB4ePCXQGv4dwIRNsqu'\n",
        "            access_token_secret = 'v8Zrg0SHINIorlVMqcpajBCFBovAKj5ucqxKnjxnwa3z0'\n",
        "\n",
        "            # attempt authentication \n",
        "            try: \n",
        "                # create OAuthHandler object \n",
        "                self.auth = OAuthHandler(consumer_key, consumer_secret) \n",
        "                # set access token and secret \n",
        "                self.auth.set_access_token(access_token, access_token_secret) \n",
        "                # create tweepy API object to fetch tweets \n",
        "                self.api = tweepy.API(self.auth) \n",
        "            except: \n",
        "                print(\"Error: Authentication Failed\") \n",
        "\n",
        "    def clean_tweet(self, tweet): \n",
        "        \n",
        "        ''' \n",
        "        Utility function to clean tweet text by removing links, special characters \n",
        "        using simple regex statements. \n",
        "        '''\n",
        "        return ' '.join(re.sub(\"(@[A-Za-z0-9]+)|([^0-9A-Za-z \\t]) |(\\w+:\\/\\/\\S+)\", \" \", tweet).split()) \n",
        "    \n",
        "    def get_tweet_sentiment(self, tweet): \n",
        "        ''' \n",
        "        Utility function to classify sentiment of passed tweet \n",
        "        using textblob's sentiment method \n",
        "        '''\n",
        "        # create TextBlob object of passed tweet text \n",
        "        analysis = TextBlob(self.clean_tweet(tweet)) \n",
        "        # set sentiment \n",
        "        if analysis.sentiment.polarity > 0: \n",
        "            return 'positive'\n",
        "        elif analysis.sentiment.polarity == 0: \n",
        "            return 'neutral'\n",
        "        else: \n",
        "            return 'negative'\n",
        "    \n",
        "    def get_tweets(self, query, count = 100): \n",
        "        ''' \n",
        "        Main function to fetch tweets and parse them. \n",
        "        '''\n",
        "        # empty list to store parsed tweets \n",
        "        tweets = [] \n",
        "  \n",
        "        try: \n",
        "            # call twitter api to fetch tweets \n",
        "            fetched_tweets = self.api.search(q = query, count = count) \n",
        "            # parsing tweets one by one \n",
        "            for tweet in fetched_tweets: \n",
        "                # empty dictionary to store required params of a tweet \n",
        "                parsed_tweet = {} \n",
        "               # print(tweet.created_at)\n",
        "                # saving text of tweet \n",
        "                parsed_tweet['text'] = tweet.text\n",
        "                #print(tweet.user.location + \"\\n\")\n",
        "                #print(tweet.text + \"\\n\")\n",
        "                #print(tweet.text + \"\\n\")\n",
        "                # saving sentiment of tweet \n",
        "                parsed_tweet['sentiment'] = self.get_tweet_sentiment(tweet.text) \n",
        "  \n",
        "                # appending parsed tweet to tweets list \n",
        "                if tweet.retweet_count > 0: \n",
        "                    # if tweet has retweets, ensure that it is appended only once \n",
        "                    if parsed_tweet not in tweets: \n",
        "                        tweets.append(parsed_tweet) \n",
        "                else: \n",
        "                    tweets.append(parsed_tweet) \n",
        "  \n",
        "            # return parsed tweets \n",
        "            return tweets \n",
        "  \n",
        "        except tweepy.TweepError as e: \n",
        "            # print error (if any) \n",
        "            print(\"Error : \" + str(e)) "
      ],
      "execution_count": 0,
      "outputs": []
    },
    {
      "cell_type": "code",
      "metadata": {
        "id": "UxwtdWfSQ0HO",
        "colab_type": "code",
        "colab": {}
      },
      "source": [
        "def main(): \n",
        "    # creating object of TwitterClient Class \n",
        "    api = TwitterClient() \n",
        "    # calling function to get tweets \n",
        "    tweets = api.get_tweets(query = 'jetblue', count = 200) \n",
        "    # picking positive tweets from tweets \n",
        "    ptweets = [tweet for tweet in tweets if tweet['sentiment'] == 'positive'] \n",
        "    # percentage of positive tweets \n",
        "    print(\"Positive tweets percentage: {} %\".format(100*len(ptweets)/len(tweets))) \n",
        "    # picking negative tweets from tweets \n",
        "    ntweets = [tweet for tweet in tweets if tweet['sentiment'] == 'negative'] \n",
        "    # percentage of negative tweets \n",
        "    print(\"Negative tweets percentage: {} %\".format(100*len(ntweets)/len(tweets))) \n",
        "    # percentage of neutral tweets \n",
        "    print(\"Neutral tweets percentage: {} % \\ \".format(100*(len(tweets) - len(ntweets) - len(ptweets))/len(tweets))) \n",
        "    explode = (0.1, 0, 0)\n",
        "    labels = ['Positive', 'Negative', 'Neutral']\n",
        "    sizes = [100*len(ptweets)/len(tweets), 100*len(ntweets)/len(tweets), 100*(len(tweets) - len(ntweets) - len(ptweets))/len(tweets)]\n",
        "    colors = ['yellowgreen', 'gold', 'lightskyblue', 'lightcoral']\n",
        "    patches, texts = plt.pie(sizes, colors=colors, shadow=True, explode=explode, labels=labels,startangle=140)\n",
        "    plt.legend(patches, labels, loc=\"best\")\n",
        "    plt.axis('equal')\n",
        "    plt.tight_layout()\n",
        "    plt.show()\n",
        "  \n",
        "  \n",
        "    # printing first 5 positive tweets \n",
        "    print(\"\\n\\nPositive tweets:\") \n",
        "    for tweet in ptweets[:10]: \n",
        "        print(tweet['text']) \n",
        "  \n",
        "    # printing first 5 negative tweets \n",
        "    print(\"\\n\\nNegative tweets:\") \n",
        "    for tweet in ntweets[:10]: \n",
        "        print(tweet['text']) \n"
      ],
      "execution_count": 0,
      "outputs": []
    },
    {
      "cell_type": "code",
      "metadata": {
        "id": "Cc-A9WNUQ0HR",
        "colab_type": "code",
        "colab": {
          "base_uri": "https://localhost:8080/",
          "height": 792
        },
        "outputId": "e8ea5c6e-027f-43f9-a669-ba0d94e50e09"
      },
      "source": [
        "if __name__ == \"__main__\": \n",
        "    # calling main function \n",
        "    main() "
      ],
      "execution_count": 7,
      "outputs": [
        {
          "output_type": "stream",
          "text": [
            "Positive tweets percentage: 53.40909090909091 %\n",
            "Negative tweets percentage: 19.318181818181817 %\n",
            "Neutral tweets percentage: 27.272727272727273 % \\ \n"
          ],
          "name": "stdout"
        },
        {
          "output_type": "display_data",
          "data": {
            "image/png": "[encoded data removed]",
            "text/plain": [
              "<Figure size 432x288 with 1 Axes>"
            ]
          },
          "metadata": {
            "tags": []
          }
        },
        {
          "output_type": "stream",
          "text": [
            "\n",
            "\n",
            "Positive tweets:\n",
            "@JetBlue .....what a great field trip to take with my family...😑 ..we had to change terminals from C43 to A https://t.co/J27YN4N6zE\n",
            "Here's another way #airlines are creating a calming atmosphere for a better #flight experience. See on your next fl… https://t.co/8EQ9NqDZp3\n",
            "Here's another way #airlines are creating a calming atmosphere for a better #flight experience. See on your next fl… https://t.co/LyYgZvtWyW\n",
            "Really??? They why did they say it was mechanical issues? https://t.co/Sf03qgmyoo\n",
            "Here's another way #airlines are creating a calming atmosphere for a better #flight experience. See on your next fl… https://t.co/EVAMnQwsRY\n",
            "Here's another way #airlines are creating a calming atmosphere for a better #flight experience. See on your next fl… https://t.co/GulEAOvVaF\n",
            "Here's another way #airlines are creating a calming atmosphere for a better #flight experience. See on your next fl… https://t.co/AruHe0rUE9\n",
            "Here's another way #airlines are creating a calming atmosphere for a better #flight experience. See on your next fl… https://t.co/qH4NvwPkzG\n",
            "Here's another way #airlines are creating a calming atmosphere for a better #flight experience. See on your next fl… https://t.co/eQNL004Pvh\n",
            "Logan airport JetBlue airlines to Barrington New Hampshire\n",
            "\n",
            "\n",
            "Negative tweets:\n",
            "@iam_erikamarie The flight before your left later than expected due to maintenance.\n",
            "RT @CenterTechMgmt: Check out additional photos from Day 4 of the seminar for @esadeexed at the #Jetblue headquarters in Long Island City,…\n",
            "JetBlue Ups Its Cargo Game https://t.co/ueaLpIR9OT #Logistics\n",
            "@JetBlue New York’s official airline yet you sponsor the bad nyc teams and majority sponsor Boston’s teams smh\n",
            "@RachelFeltman @JetBlue That is insane! How is that not against FAA regulations? @JetBlue is trash. I’m still mad t… https://t.co/P1jYy0soBm\n",
            "@Barrp13 @JetBlue Plenty of other options....direct TV 🤷‍♀️\n",
            "@iam_erikamarie Hi Erika. We're sorry about the wait. The flight before yours is leaving later than expected. It is… https://t.co/ZPMgHUxFqe\n",
            "@JetBlue Hey JetBlue, why is the plane green? https://t.co/1MAnQLtVsV\n",
            "@JetBlue I usually never have a problem with yall..but this delay from NAS to FLL is really crazy especially when I… https://t.co/md1kDaZ9Re\n",
            "@nate_chorney We're sorry to have disappointed you. We know delays are difficult and are sorry for that. Is there a… https://t.co/p5CmcBtzn7\n"
          ],
          "name": "stdout"
        }
      ]
    }
  ]
}